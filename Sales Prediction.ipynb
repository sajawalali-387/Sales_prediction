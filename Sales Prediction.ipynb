{
 "cells": [
  {
   "cell_type": "code",
   "execution_count": null,
   "id": "213eab6c-dab9-4c2c-bcc9-78b8fe039699",
   "metadata": {},
   "outputs": [],
   "source": [
    "import pandas as pd\n",
    "from sklearn.model_selection import train_test_split\n",
    "from sklearn.linear_model import LinearRegression, Ridge, Lasso\n",
    "from sklearn.metrics import r2_score, mean_squared_error, mean_absolute_error\n",
    "from sklearn.preprocessing import StandardScaler\n",
    "import numpy as np\n",
    "\n",
    "data = pd.read_csv('Advertising.csv')\n",
    "data = data.drop(['Unnamed: 0'], axis=1)\n",
    "X = data.drop('Sales', axis=1)\n",
    "y = data['Sales']\n",
    "scaler = StandardScaler()\n",
    "X_scaled = scaler.fit_transform(X)\n",
    "X_train, X_test, y_train, y_test = train_test_split(X_scaled, y, test_size=0.2, random_state=42)\n",
    "\n",
    "linear_model = LinearRegression()\n",
    "linear_model.fit(X_train, y_train)\n",
    "linear_pred = linear_model.predict(X_test)\n",
    "\n",
    "ridge_model = Ridge(alpha=1.0)\n",
    "ridge_model.fit(X_train, y_train)\n",
    "ridge_pred = ridge_model.predict(X_test)\n",
    "\n",
    "lasso_model = Lasso(alpha=0.1)\n",
    "lasso_model.fit(X_train, y_train)\n",
    "lasso_pred = lasso_model.predict(X_test)\n",
    "\n",
    "metrics = {\n",
    "    'Linear Regression': {\n",
    "        'R2': r2_score(y_test, linear_pred),\n",
    "        'RMSE': np.sqrt(mean_squared_error(y_test, linear_pred)),\n",
    "        'MAE': mean_absolute_error(y_test, linear_pred)\n",
    "    },\n",
    "    'Ridge Regression': {\n",
    "        'R2': r2_score(y_test, ridge_pred),\n",
    "        'RMSE': np.sqrt(mean_squared_error(y_test, ridge_pred)),\n",
    "        'MAE': mean_absolute_error(y_test, ridge_pred)\n",
    "    },\n",
    "    'Lasso Regression': {\n",
    "        'R2': r2_score(y_test, lasso_pred),\n",
    "        'RMSE': np.sqrt(mean_squared_error(y_test, lasso_pred)),\n",
    "        'MAE': mean_absolute_error(y_test, lasso_pred)\n",
    "    }\n",
    "}\n",
    "\n",
    "for model, metric in metrics.items():\n",
    "    print(f\"{model}: R2: {metric['R2']:.2f}, RMSE: {metric['RMSE']:.2f}, MAE: {metric['MAE']:.2f}\")\n",
    "\n",
    "coefficients = pd.DataFrame({\n",
    "    'Feature': X.columns,\n",
    "    'Linear Coefficient': linear_model.coef_,\n",
    "    'Ridge Coefficient': ridge_model.coef_,\n",
    "    'Lasso Coefficient': lasso_model.coef_\n",
    "})\n",
    "print(coefficients)\n"
   ]
  }
 ],
 "metadata": {
  "kernelspec": {
   "display_name": "Python 3 (ipykernel)",
   "language": "python",
   "name": "python3"
  },
  "language_info": {
   "codemirror_mode": {
    "name": "ipython",
    "version": 3
   },
   "file_extension": ".py",
   "mimetype": "text/x-python",
   "name": "python",
   "nbconvert_exporter": "python",
   "pygments_lexer": "ipython3",
   "version": "3.12.3"
  }
 },
 "nbformat": 4,
 "nbformat_minor": 5
}
